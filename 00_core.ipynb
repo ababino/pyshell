{
 "cells": [
  {
   "cell_type": "code",
   "execution_count": null,
   "metadata": {},
   "outputs": [],
   "source": [
    "# default_exp core"
   ]
  },
  {
   "cell_type": "markdown",
   "metadata": {},
   "source": [
    "# pyshell\n",
    "\n",
    "> A Shell object that allows the user to access every program in the `PATH` as an object method. "
   ]
  },
  {
   "cell_type": "code",
   "execution_count": null,
   "metadata": {},
   "outputs": [],
   "source": [
    "#hide\n",
    "from nbdev.showdoc import *"
   ]
  },
  {
   "cell_type": "markdown",
   "metadata": {},
   "source": [
    "## Imports"
   ]
  },
  {
   "cell_type": "code",
   "execution_count": null,
   "metadata": {},
   "outputs": [],
   "source": [
    "#export\n",
    "import subprocess\n",
    "from fastcore.basics import *\n",
    "from fastcore.all import *"
   ]
  },
  {
   "cell_type": "markdown",
   "metadata": {},
   "source": [
    "## Command"
   ]
  },
  {
   "cell_type": "code",
   "execution_count": null,
   "metadata": {},
   "outputs": [],
   "source": [
    "#export\n",
    "class Command:\n",
    "    \"\"\"A shell command.\"\"\"\n",
    "    def __init__(self, name): self.name = name\n",
    "    def __call__(self, *args, shell=True, decode='utf-8', out_error=False, ignore_error=False,\n",
    "                 replace_underscore='-', capture=True, **kwargs):\n",
    "        command = [self.name]\n",
    "        if 'flags' in kwargs:\n",
    "            flags = kwargs.pop('flags')\n",
    "            for flag in flags:\n",
    "                if len(flag)==1:\n",
    "                    command.append('-' + flag)\n",
    "                else:\n",
    "                    command.append('--' + flag.replace('_', replace_underscore))\n",
    "        for k in kwargs:\n",
    "            if len(k)==1:\n",
    "                command.append('-' + k)\n",
    "            else:\n",
    "                command.append('--' + k.replace('_', replace_underscore))\n",
    "            command.append(str(kwargs[k]))\n",
    "        command.extend([str(x) for x in args])\n",
    "        if capture: st = {'stdout': subprocess.PIPE, 'stderr': subprocess.PIPE}\n",
    "        else: st = {}\n",
    "        process = subprocess.Popen(' '.join(command), shell=shell, **st)\n",
    "        output, error = process.communicate()\n",
    "        if error:\n",
    "            error = error.decode(\"utf-8\").strip('\\n')\n",
    "            if out_error:\n",
    "                return error\n",
    "            elif not ignore_error:\n",
    "                raise Exception(error)\n",
    "        if decode and output:\n",
    "            output = output.decode(\"utf-8\").strip('\\n')\n",
    "        return output"
   ]
  },
  {
   "cell_type": "code",
   "execution_count": null,
   "metadata": {},
   "outputs": [],
   "source": [
    "ls = Command('ls')\n",
    "test_eq(ls(\"*.ipynb\"), '00_core.ipynb\\nindex.ipynb')"
   ]
  },
  {
   "cell_type": "markdown",
   "metadata": {},
   "source": [
    "## Shell"
   ]
  },
  {
   "cell_type": "code",
   "execution_count": null,
   "metadata": {},
   "outputs": [],
   "source": [
    "#export\n",
    "class Shell:\n",
    "    def __getattr__(self, k, *args, **kwargs):\n",
    "        if k[0]=='_': return super().__getattr__(k)\n",
    "        com = Command(k)\n",
    "        com.__doc__ = Command('man')(k, out_error=True)\n",
    "        return com \n",
    "    def _dir(self): return L(L(self.echo('$PATH').split(':')).map(self.ls).map(Self.split('\\n')).sum()).unique().filter()\n",
    "    def __dir__(self): return custom_dir(self, self._dir())"
   ]
  },
  {
   "cell_type": "code",
   "execution_count": null,
   "metadata": {},
   "outputs": [],
   "source": [
    "sh = Shell()"
   ]
  },
  {
   "cell_type": "code",
   "execution_count": null,
   "metadata": {},
   "outputs": [],
   "source": [
    "test_eq(sh.ls(\"*.ipynb\"), '00_core.ipynb\\nindex.ipynb')"
   ]
  },
  {
   "cell_type": "code",
   "execution_count": null,
   "metadata": {},
   "outputs": [],
   "source": [
    "test_eq(sh.ls('\\.giti*', flags='a'), '.gitignore')"
   ]
  },
  {
   "cell_type": "code",
   "execution_count": null,
   "metadata": {},
   "outputs": [],
   "source": [
    "test_eq(sh.ls('\\.giti*', flags=['asdf'], out_error=True), \"ls: unrecognized option '--asdf'\\nTry 'ls --help' for more information.\")"
   ]
  },
  {
   "cell_type": "code",
   "execution_count": null,
   "metadata": {},
   "outputs": [],
   "source": [
    "test_eq(sh.ls('\\.giti*', flags=['asdf'], out_error=False, ignore_error=True), '')"
   ]
  },
  {
   "cell_type": "code",
   "execution_count": null,
   "metadata": {},
   "outputs": [],
   "source": [
    "test_eq(sh.ls('\\.giti*', flags=['asdf'], ignore_error=True), '')"
   ]
  },
  {
   "cell_type": "markdown",
   "metadata": {},
   "source": [
    "## Export"
   ]
  },
  {
   "cell_type": "code",
   "execution_count": null,
   "metadata": {},
   "outputs": [
    {
     "name": "stdout",
     "output_type": "stream",
     "text": [
      "Converted 00_core.ipynb.\n",
      "Converted index.ipynb.\n"
     ]
    }
   ],
   "source": [
    "from nbdev.export import notebook2script; notebook2script()"
   ]
  }
 ],
 "metadata": {
  "kernelspec": {
   "display_name": "Python 3 (ipykernel)",
   "language": "python",
   "name": "python3"
  }
 },
 "nbformat": 4,
 "nbformat_minor": 4
}
